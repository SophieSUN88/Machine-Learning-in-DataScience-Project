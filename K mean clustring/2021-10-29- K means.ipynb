{
 "cells": [
  {
   "cell_type": "markdown",
   "id": "cd50bb5c",
   "metadata": {},
   "source": [
    "# K - MEANS Clustering\n",
    "show the progress of coding step by step\n",
    "\n",
    "- K-means clustering is one of the simplest and popular unsupervised machine learning algorithms.\n",
    "- Typically, unsupervised algorithms make inferences from datasets using only input vectors without referring to known, or labelled, outcomes.\n",
    "- In other words, the K-means algorithm identifies k number of centroids, and then allocates every data point to the nearest cluster, while keeping the centroids as small as possible.\n",
    "- The ‘means’ in the K-means refers to averaging of the data; that is, finding the centroid.\n"
   ]
  },
  {
   "cell_type": "code",
   "execution_count": null,
   "id": "b1fb2853",
   "metadata": {},
   "outputs": [],
   "source": [
    "import matplotlib.pyplot as plt\n",
    "from sklearn import datasets\n",
    "from sklearn.decomposition import PCA\n",
    "import numpy as np"
   ]
  },
  {
   "cell_type": "markdown",
   "id": "9eef29d3",
   "metadata": {},
   "source": [
    "### Preparation"
   ]
  },
  {
   "cell_type": "code",
   "execution_count": null,
   "id": "23ccaebb",
   "metadata": {},
   "outputs": [],
   "source": [
    "# import some data to play with\n",
    "iris = datasets.load_iris()\n",
    "X = iris.data\n",
    "X.shape"
   ]
  },
  {
   "cell_type": "code",
   "execution_count": null,
   "id": "9d19522b",
   "metadata": {},
   "outputs": [],
   "source": [
    "# we only need the first 2 columns\n",
    "X= X[:,:2]\n",
    "X.shape"
   ]
  },
  {
   "cell_type": "code",
   "execution_count": null,
   "id": "e338c18e",
   "metadata": {},
   "outputs": [],
   "source": [
    "# plot the data\n",
    "plt.scatter(X[:,0],X[:,1])"
   ]
  },
  {
   "cell_type": "markdown",
   "id": "c0eb718e",
   "metadata": {},
   "source": [
    "### Step 1. Start from k=2 for the K-Mean cluster, code step by step\n",
    "- k = 2, and generate the centroids randomly\n",
    "- create function of distance\n",
    "- create function of assignment to find the closest centroid for x point\n",
    "    - definition of the assignment function to find the closest/min of the distance between x(one point) and centroid(one of the Centroids) \n",
    "    - return the index of the centroid by argmin()\n",
    "    - Then we can find which centroid is most closest/min distance to x, that means x blong to that centroid cluster.\n",
    "- plot the data in 2 groups\n",
    "- create function of make-class \n",
    "- divide the data in to 2 groups to A\n",
    "- create function of new_centroids to generate the mean center for each cluster as the new_centroids"
   ]
  },
  {
   "cell_type": "code",
   "execution_count": null,
   "id": "13300a36",
   "metadata": {},
   "outputs": [],
   "source": [
    "# generate centroids randomly\n",
    "k=2\n",
    "C=[]\n",
    "for _ in range(k):\n",
    "    i = np.random.randint(len(X))\n",
    "    C.append(X[i,:])\n",
    "C"
   ]
  },
  {
   "cell_type": "code",
   "execution_count": null,
   "id": "e6cb665b",
   "metadata": {},
   "outputs": [],
   "source": [
    "# function of distance between 2 points\n",
    "def distance(v,w):\n",
    "    return np.sqrt((v-w)@(v-w))\n",
    "distance(C[0],X[0])"
   ]
  },
  {
   "cell_type": "code",
   "execution_count": null,
   "id": "22d363f9",
   "metadata": {},
   "outputs": [],
   "source": [
    "# definition of the function to find the closest/min of the distance between x(one point) and centroid(one of the Centroids) \n",
    "# and return the index of the centroid by argmin()\n",
    "# Then we can find which centroid is most closest/min distance to x, that means x blong to that centroid cluster.\n",
    "def assignment(x,Centroids):\n",
    "    distances = np.array([distance(x,centroid) for centroid in Centroids])\n",
    "    return np.argmin(distances)\n",
    "# get the result \n",
    "assignment(X[1],C)"
   ]
  },
  {
   "cell_type": "code",
   "execution_count": null,
   "id": "3258b959",
   "metadata": {},
   "outputs": [],
   "source": [
    "# plot data in 2 groups\n",
    "for x in X:\n",
    "    if assignment(x,C)==0:\n",
    "        plt.scatter(x[0],x[1],color = \"blue\")\n",
    "    else:\n",
    "        plt.scatter(x[0],x[1],color = \"red\")\n",
    "plt.show()"
   ]
  },
  {
   "cell_type": "code",
   "execution_count": null,
   "id": "bf0bbe50",
   "metadata": {},
   "outputs": [],
   "source": [
    "# divide the data in to 2 groups to A\n",
    "def make_classes(data, Centroids):\n",
    "    A = dict()\n",
    "    for i in range(len(Centroids)):\n",
    "        A[i]=[]\n",
    "    for x in data:\n",
    "        A[assignment(x,Centroids)].append(x)\n",
    "    return A\n",
    "# get the result of A\n",
    "A = make_classes(X,C)\n"
   ]
  },
  {
   "cell_type": "code",
   "execution_count": null,
   "id": "b8180463",
   "metadata": {},
   "outputs": [],
   "source": [
    "A[0][:5]"
   ]
  },
  {
   "cell_type": "code",
   "execution_count": null,
   "id": "202e3980",
   "metadata": {},
   "outputs": [],
   "source": [
    "A[1][:5]"
   ]
  },
  {
   "cell_type": "code",
   "execution_count": null,
   "id": "48cd71db",
   "metadata": {},
   "outputs": [],
   "source": [
    "# definition function of new_centroids\n",
    "# Generate the mean center for each cluster as the new_centroids\n",
    "def new_centroids(data, Centroids):\n",
    "    new_centroids = []\n",
    "    A = make_classes(data, Centroids)\n",
    "    for i in range(len(Centroids)):\n",
    "        a=(1/len(A[i]))*sum(A[i])\n",
    "        new_centroids.append(a)\n",
    "    return new_centroids\n",
    "new_C = new_centroids(X,C)\n",
    "new_C"
   ]
  },
  {
   "cell_type": "markdown",
   "id": "868aa737",
   "metadata": {},
   "source": [
    "### Step 2. put code together, try k=3 \n",
    "- then we can draw the points in different color ,and see the progress from C0 to C1,to C2, to C3."
   ]
  },
  {
   "cell_type": "code",
   "execution_count": null,
   "id": "d02d0736",
   "metadata": {},
   "outputs": [],
   "source": [
    "# 2. put the funtions together \n",
    "\n",
    "def initialize_centroids(data, k =2):\n",
    "    Centroids =[]\n",
    "    for _ in range(k):\n",
    "        i = np.random.randint(len(X))\n",
    "        Centroids.append(X[i,:])\n",
    "    return Centroids\n",
    "    \n",
    "def assignment(x,Centroids):\n",
    "    distances = np.array([distance(x,centroid) for centroid in Centroids])\n",
    "    return np.argmin(distances)\n",
    "\n",
    "def make_classes(data, Centroids):\n",
    "    A = dict()\n",
    "    for i in range(len(Centroids)):\n",
    "        A[i]=[]\n",
    "    for x in data:\n",
    "        A[assignment(x,Centroids)].append(x)\n",
    "    return A\n",
    "\n",
    "def new_centroids(data, Centroids):\n",
    "    new_centroids = []\n",
    "    A = make_classes(data, Centroids)\n",
    "    for i in range(len(Centroids)):\n",
    "        a=(1/len(A[i]))*sum(A[i])\n",
    "        new_centroids.append(a)\n",
    "    return new_centroids"
   ]
  },
  {
   "cell_type": "code",
   "execution_count": null,
   "id": "5eb21fdc",
   "metadata": {},
   "outputs": [],
   "source": [
    "# try with k=3 and data=iris.data\n",
    "k = 3\n",
    "C0=initialize_centroids(X,k=k)\n",
    "C1=new_centroids(X,C0)\n",
    "C2=new_centroids(X,C1)\n",
    "C3=new_centroids(X,C2)"
   ]
  },
  {
   "cell_type": "code",
   "execution_count": null,
   "id": "7ec6cbed",
   "metadata": {},
   "outputs": [],
   "source": [
    "## then we can draw the points in different color ,and see the progress from C0 to C1,to C2, to C3.\n",
    "for x in X:\n",
    "    if assignment(x,C0) == 0:\n",
    "        plt.scatter(x[0],x[1],color =\"blue\")\n",
    "    elif assignment(x,C0) == 1:\n",
    "        plt.scatter(x[0],x[1],color =\"green\")\n",
    "    else:\n",
    "        plt.scatter(x[0],x[1],color =\"red\")\n",
    "        "
   ]
  },
  {
   "cell_type": "code",
   "execution_count": null,
   "id": "04e29de2",
   "metadata": {},
   "outputs": [],
   "source": [
    "for x in X:\n",
    "    if assignment(x,C1) == 0:\n",
    "        plt.scatter(x[0],x[1],color =\"blue\")\n",
    "    elif assignment(x,C1) == 1:\n",
    "        plt.scatter(x[0],x[1],color =\"green\")\n",
    "    else:\n",
    "        plt.scatter(x[0],x[1],color =\"red\")"
   ]
  },
  {
   "cell_type": "code",
   "execution_count": null,
   "id": "4ef87bc6",
   "metadata": {},
   "outputs": [],
   "source": [
    "for x in X:\n",
    "    if assignment(x,C2) == 0:\n",
    "        plt.scatter(x[0],x[1],color =\"blue\")\n",
    "    elif assignment(x,C2) == 1:\n",
    "        plt.scatter(x[0],x[1],color =\"green\")\n",
    "    else:\n",
    "        plt.scatter(x[0],x[1],color =\"red\")"
   ]
  },
  {
   "cell_type": "code",
   "execution_count": 19,
   "id": "15d3f9de",
   "metadata": {},
   "outputs": [
    {
     "data": {
      "image/png": "[encoded data removed]",
      "text/plain": [
       "<Figure size 432x288 with 1 Axes>"
      ]
     },
     "metadata": {
      "needs_background": "light"
     },
     "output_type": "display_data"
    }
   ],
   "source": [
    "for x in X:\n",
    "    if assignment(x,C3) == 0:\n",
    "        plt.scatter(x[0],x[1],color =\"blue\")\n",
    "    elif assignment(x,C3) == 1:\n",
    "        plt.scatter(x[0],x[1],color =\"green\")\n",
    "    else:\n",
    "        plt.scatter(x[0],x[1],color =\"red\")"
   ]
  },
  {
   "cell_type": "code",
   "execution_count": 20,
   "id": "f7f498d8",
   "metadata": {},
   "outputs": [
    {
     "name": "stdout",
     "output_type": "stream",
     "text": [
      "[0.04045678894370887, 0.07773367356227738, 0.047436073887273444]\n"
     ]
    }
   ],
   "source": [
    "k=3\n",
    "C=[]\n",
    "C_old = initialize_centroids(X,k=k)\n",
    "C_new = new_centroids(X,C0)\n",
    "centroid_distances = [distance(p[0], p[1]) for p in zip(C_old, C_new)]\n",
    "iterations = 0\n",
    "max_iterations = 100\n",
    "epsilon = 0.1\n",
    "while max(centroid_distances)> epsilon and iterations< max_iterations:\n",
    "    C_old, C_new = C_new, new_centroids(X,C_old)\n",
    "    centroid_distances = [distance(p[0], p[1]) for p in zip(C_old, C_new)]\n",
    "    iterations +=1\n",
    "print(centroid_distances)\n",
    "    \n",
    "\n"
   ]
  },
  {
   "cell_type": "code",
   "execution_count": 21,
   "id": "340fdb42",
   "metadata": {},
   "outputs": [
    {
     "data": {
      "text/plain": [
       "[0.1548126033266034, 1.1624361541607326, 0.8134410224724837]"
      ]
     },
     "execution_count": 21,
     "metadata": {},
     "output_type": "execute_result"
    }
   ],
   "source": [
    "C_old = initialize_centroids(X, k=k)\n",
    "C_new = new_centroids(X, C_old)\n",
    "[distance(p[0], p[1]) for p in zip(C_old, C_new)]"
   ]
  },
  {
   "cell_type": "code",
   "execution_count": 22,
   "id": "42145b9d",
   "metadata": {
    "scrolled": true
   },
   "outputs": [
    {
     "data": {
      "text/plain": [
       "[(array([4.6, 3.4]), array([4.59090909, 3.24545455])),\n",
       " (array([5. , 3.4]), array([6.15875, 3.3075 ])),\n",
       " (array([4.9, 3. ]), array([5.64915254, 2.68305085]))]"
      ]
     },
     "execution_count": 22,
     "metadata": {},
     "output_type": "execute_result"
    }
   ],
   "source": [
    "# check what is the p\n",
    "[p for p in zip(C_old, C_new)]"
   ]
  },
  {
   "cell_type": "markdown",
   "id": "cfdb5ac4",
   "metadata": {},
   "source": [
    "### step3 to measure the errors\n",
    "- define the fit to find the best centroids\n",
    "- define the MSE of class to measure the errors"
   ]
  },
  {
   "cell_type": "code",
   "execution_count": 23,
   "id": "9804f5e2",
   "metadata": {},
   "outputs": [],
   "source": [
    "def fit(data, k =3 , max_iterations=100, epsilon = 0.01):\n",
    "    C_old = initialize_centroids(data,k=k)\n",
    "    C_new = new_centroids(data,C0)\n",
    "    centroid_distances = [distance(p[0], p[1]) for p in zip(C_old, C_new)]\n",
    "    iterations = 0\n",
    "\n",
    "    while max(centroid_distances)> epsilon and iterations< max_iterations:\n",
    "        C_old, C_new = C_new, new_centroids(data,C_new)\n",
    "        centroid_distances = [distance(p[0], p[1]) for p in zip(C_old, C_new)]\n",
    "        iterations +=1\n",
    "    return C_new\n"
   ]
  },
  {
   "cell_type": "code",
   "execution_count": 24,
   "id": "c9091276",
   "metadata": {
    "scrolled": true
   },
   "outputs": [
    {
     "data": {
      "text/plain": [
       "[array([5.00392157, 3.40980392]),\n",
       " array([5.8, 2.7]),\n",
       " array([6.82391304, 3.07826087])]"
      ]
     },
     "execution_count": 24,
     "metadata": {},
     "output_type": "execute_result"
    }
   ],
   "source": [
    "fit(X)"
   ]
  },
  {
   "cell_type": "code",
   "execution_count": 25,
   "id": "558972b8",
   "metadata": {},
   "outputs": [],
   "source": [
    "def mse_classes(data, Centroids):\n",
    "    errors = []\n",
    "    A_classes =  make_classes(data, Centroids)\n",
    "    for i, centroid in enumerate(Centroids):\n",
    "        error = sum(0.5*(centroid-a)**2 for a in A_classes[i])\n",
    "        errors.append(error)\n",
    "    return sum(errors)"
   ]
  },
  {
   "cell_type": "code",
   "execution_count": 26,
   "id": "f4480e6c",
   "metadata": {},
   "outputs": [
    {
     "data": {
      "text/plain": [
       "array([10.95145567,  7.59167945])"
      ]
     },
     "execution_count": 26,
     "metadata": {},
     "output_type": "execute_result"
    }
   ],
   "source": [
    "C = fit(X)\n",
    "mse_classes(X,C)"
   ]
  },
  {
   "cell_type": "markdown",
   "id": "ce63eee2",
   "metadata": {},
   "source": [
    "### Step 4: get the final gathered code \n",
    "- have a look at the improvement of the progress with k-mean "
   ]
  },
  {
   "cell_type": "code",
   "execution_count": 27,
   "id": "c770848b",
   "metadata": {},
   "outputs": [],
   "source": [
    "# put the funtions together again with  fit and mse_classes\n",
    "\n",
    "def initialize_centroids(data, k =2):\n",
    "    Centroids =[]\n",
    "    for _ in range(k):\n",
    "        i = np.random.randint(len(X))\n",
    "        Centroids.append(X[i,:])\n",
    "    return Centroids\n",
    "\n",
    "    \n",
    "def assignment(x,Centroids):\n",
    "    distances = np.array([distance(x,centroid) for centroid in Centroids])\n",
    "    return np.argmin(distances)\n",
    "\n",
    "def make_classes(data, Centroids):\n",
    "    A = dict()\n",
    "    for i in range(len(Centroids)):\n",
    "        A[i]=[]\n",
    "    for x in data:\n",
    "        A[assignment(x,Centroids)].append(x)\n",
    "    return A\n",
    "\n",
    "def new_centroids(data, Centroids):\n",
    "    new_centroids = []\n",
    "    A = make_classes(data, Centroids)\n",
    "    for i in range(len(Centroids)):\n",
    "        new_centroids.append((1/len(A[i]))*sum(A[i]))\n",
    "    return new_centroids\n",
    "\n",
    "def fit(data, k =3 , max_iterations=100, epsilon = 0.01):\n",
    "    C_old = initialize_centroids(data,k=k)\n",
    "    C_new = new_centroids(data,C_old)\n",
    "    centroid_distances = [distance(p[0], p[1]) for p in zip(C_old, C_new)]\n",
    "    iterations = 0\n",
    "\n",
    "    while max(centroid_distances)> epsilon and iterations< max_iterations:\n",
    "        C_old, C_new = C_new, new_centroids(data,C_new)\n",
    "        centroid_distances = [distance(p[0], p[1]) for p in zip(C_old, C_new)]\n",
    "        iterations +=1\n",
    "    return C_new\n",
    "\n",
    "def mse_classes(data, Centroids):\n",
    "    errors = []\n",
    "    A_classes = make_classes(data, Centroids)\n",
    "    for i, centroid in enumerate(Centroids):\n",
    "        error = sum(0.5*(centroid - a) @ (centroid - a) for a in A_classes[i])\n",
    "        errors.append(error)    \n",
    "    return sum(x for x in errors)\n"
   ]
  },
  {
   "cell_type": "code",
   "execution_count": null,
   "id": "2ec13529",
   "metadata": {},
   "outputs": [],
   "source": []
  },
  {
   "cell_type": "code",
   "execution_count": 28,
   "id": "f1a080ce",
   "metadata": {},
   "outputs": [],
   "source": [
    "C1 = fit(X,k=1)\n",
    "C2 = fit(X,k=2)\n",
    "C3 = fit(X,k=3)\n",
    "C4 = fit(X,k=4)\n",
    "C5 = fit(X,k=5)\n",
    "C6 = fit(X,k=6)\n",
    "C=[C1, C2,C3,C4,C5,C6]"
   ]
  },
  {
   "cell_type": "code",
   "execution_count": 29,
   "id": "d498cde2",
   "metadata": {
    "scrolled": true
   },
   "outputs": [
    {
     "data": {
      "text/plain": [
       "[array([5.84333333, 3.05733333])]"
      ]
     },
     "execution_count": 29,
     "metadata": {},
     "output_type": "execute_result"
    }
   ],
   "source": [
    "C1 = fit(X,k=1)\n",
    "C1"
   ]
  },
  {
   "cell_type": "code",
   "execution_count": 30,
   "id": "2f754b1c",
   "metadata": {},
   "outputs": [
    {
     "data": {
      "text/plain": [
       "[array([5.22409639, 3.1313253 ]), array([6.61044776, 2.96567164])]"
      ]
     },
     "execution_count": 30,
     "metadata": {},
     "output_type": "execute_result"
    }
   ],
   "source": [
    "C2 = fit(X,k=2)\n",
    "C2"
   ]
  },
  {
   "cell_type": "code",
   "execution_count": 31,
   "id": "096f1325",
   "metadata": {},
   "outputs": [
    {
     "data": {
      "text/plain": [
       "[array([5.8, 2.7]),\n",
       " array([6.82391304, 3.07826087]),\n",
       " array([5.00392157, 3.40980392])]"
      ]
     },
     "execution_count": 31,
     "metadata": {},
     "output_type": "execute_result"
    }
   ],
   "source": [
    "C3 = fit(X,k=3)\n",
    "C3"
   ]
  },
  {
   "cell_type": "code",
   "execution_count": 32,
   "id": "554cb84e",
   "metadata": {},
   "outputs": [
    {
     "data": {
      "text/plain": [
       "[array([4.77777778, 2.94444444]),\n",
       " array([5.90980392, 2.73529412]),\n",
       " array([5.22068966, 3.66551724]),\n",
       " array([6.85348837, 3.1       ])]"
      ]
     },
     "execution_count": 32,
     "metadata": {},
     "output_type": "execute_result"
    }
   ],
   "source": [
    "C4 = fit(X,k=4)\n",
    "C4"
   ]
  },
  {
   "cell_type": "markdown",
   "id": "babb5be9",
   "metadata": {},
   "source": []
  },
  {
   "cell_type": "code",
   "execution_count": 33,
   "id": "c2f0b9fc",
   "metadata": {},
   "outputs": [
    {
     "data": {
      "text/plain": [
       "[65.23763333333338,\n",
       " 29.22379623044097,\n",
       " 18.52535106382979,\n",
       " 14.017491076623111,\n",
       " 13.267687619316497,\n",
       " 9.631128547468066]"
      ]
     },
     "execution_count": 33,
     "metadata": {},
     "output_type": "execute_result"
    }
   ],
   "source": [
    "errors = [mse_classes(X,centroids) for centroids in C]\n",
    "errors\n"
   ]
  },
  {
   "cell_type": "code",
   "execution_count": 34,
   "id": "286a92de",
   "metadata": {},
   "outputs": [
    {
     "data": {
      "text/plain": [
       "[<matplotlib.lines.Line2D at 0x7f8d982a3dc0>]"
      ]
     },
     "execution_count": 34,
     "metadata": {},
     "output_type": "execute_result"
    },
    {
     "data": {
      "image/png": "[encoded data removed]",
      "text/plain": [
       "<Figure size 720x432 with 1 Axes>"
      ]
     },
     "metadata": {
      "needs_background": "light"
     },
     "output_type": "display_data"
    }
   ],
   "source": [
    "# plot the progress of the improvement in errors \n",
    "errors = [mse_classes(X,centroids) for centroids in C]\n",
    "plt.figure(figsize=(10,6))\n",
    "plt.plot([i for i in range(1,7)],errors)"
   ]
  },
  {
   "cell_type": "code",
   "execution_count": 35,
   "id": "572bd949",
   "metadata": {},
   "outputs": [
    {
     "data": {
      "image/png": "[encoded data removed]",
      "text/plain": [
       "<Figure size 432x288 with 1 Axes>"
      ]
     },
     "metadata": {
      "needs_background": "light"
     },
     "output_type": "display_data"
    }
   ],
   "source": [
    "for x in X:\n",
    "    if assignment(x,C6) == 0:\n",
    "        plt.scatter(x[0],x[1],color =\"blue\")\n",
    "    elif assignment(x,C6) == 1:\n",
    "        plt.scatter(x[0],x[1],color =\"green\")\n",
    "    elif assignment(x,C6) == 2:\n",
    "        plt.scatter(x[0],x[1],color =\"yellow\")\n",
    "    elif assignment(x,C6) == 3:\n",
    "        plt.scatter(x[0],x[1],color =\"purple\")\n",
    "    elif assignment(x,C6) == 4:\n",
    "        plt.scatter(x[0],x[1],color =\"black\")\n",
    "    else:\n",
    "        plt.scatter(x[0],x[1],color =\"red\")"
   ]
  },
  {
   "cell_type": "code",
   "execution_count": null,
   "id": "f4bf6198",
   "metadata": {},
   "outputs": [],
   "source": []
  }
 ],
 "metadata": {
  "kernelspec": {
   "display_name": "Python 3",
   "language": "python",
   "name": "python3"
  },
  "language_info": {
   "codemirror_mode": {
    "name": "ipython",
    "version": 3
   },
   "file_extension": ".py",
   "mimetype": "text/x-python",
   "name": "python",
   "nbconvert_exporter": "python",
   "pygments_lexer": "ipython3",
   "version": "3.9.6"
  }
 },
 "nbformat": 4,
 "nbformat_minor": 5
}
